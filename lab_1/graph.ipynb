{
 "cells": [
  {
   "cell_type": "markdown",
   "metadata": {},
   "source": [
    "# Question 2"
   ]
  },
  {
   "cell_type": "code",
   "execution_count": 1,
   "metadata": {},
   "outputs": [],
   "source": [
    "import matplotlib.pyplot as plt\n",
    "import pandas as pd\n",
    "%matplotlib inline"
   ]
  },
  {
   "cell_type": "code",
   "execution_count": 2,
   "metadata": {},
   "outputs": [
    {
     "data": {
      "text/html": [
       "<div>\n",
       "<style scoped>\n",
       "    .dataframe tbody tr th:only-of-type {\n",
       "        vertical-align: middle;\n",
       "    }\n",
       "\n",
       "    .dataframe tbody tr th {\n",
       "        vertical-align: top;\n",
       "    }\n",
       "\n",
       "    .dataframe thead th {\n",
       "        text-align: right;\n",
       "    }\n",
       "</style>\n",
       "<table border=\"1\" class=\"dataframe\">\n",
       "  <thead>\n",
       "    <tr style=\"text-align: right;\">\n",
       "      <th></th>\n",
       "      <th>arrival_rate</th>\n",
       "      <th>mean_delay</th>\n",
       "    </tr>\n",
       "  </thead>\n",
       "  <tbody>\n",
       "    <tr>\n",
       "      <th>0</th>\n",
       "      <td>0.1</td>\n",
       "      <td>1.055552</td>\n",
       "    </tr>\n",
       "    <tr>\n",
       "      <th>1</th>\n",
       "      <td>0.2</td>\n",
       "      <td>1.125003</td>\n",
       "    </tr>\n",
       "    <tr>\n",
       "      <th>2</th>\n",
       "      <td>0.3</td>\n",
       "      <td>1.214300</td>\n",
       "    </tr>\n",
       "    <tr>\n",
       "      <th>3</th>\n",
       "      <td>0.4</td>\n",
       "      <td>1.333388</td>\n",
       "    </tr>\n",
       "    <tr>\n",
       "      <th>4</th>\n",
       "      <td>0.5</td>\n",
       "      <td>1.500138</td>\n",
       "    </tr>\n",
       "    <tr>\n",
       "      <th>5</th>\n",
       "      <td>0.6</td>\n",
       "      <td>1.750237</td>\n",
       "    </tr>\n",
       "    <tr>\n",
       "      <th>6</th>\n",
       "      <td>0.7</td>\n",
       "      <td>2.167045</td>\n",
       "    </tr>\n",
       "    <tr>\n",
       "      <th>7</th>\n",
       "      <td>0.8</td>\n",
       "      <td>3.000765</td>\n",
       "    </tr>\n",
       "    <tr>\n",
       "      <th>8</th>\n",
       "      <td>0.9</td>\n",
       "      <td>5.504026</td>\n",
       "    </tr>\n",
       "  </tbody>\n",
       "</table>\n",
       "</div>"
      ],
      "text/plain": [
       "   arrival_rate  mean_delay\n",
       "0           0.1    1.055552\n",
       "1           0.2    1.125003\n",
       "2           0.3    1.214300\n",
       "3           0.4    1.333388\n",
       "4           0.5    1.500138\n",
       "5           0.6    1.750237\n",
       "6           0.7    2.167045\n",
       "7           0.8    3.000765\n",
       "8           0.9    5.504026"
      ]
     },
     "execution_count": 2,
     "metadata": {},
     "output_type": "execute_result"
    }
   ],
   "source": [
    "q2 = pd.read_csv('q2.csv')\n",
    "q2"
   ]
  },
  {
   "cell_type": "code",
   "execution_count": 3,
   "metadata": {},
   "outputs": [
    {
     "data": {
      "text/plain": [
       "Text(0, 0.5, 'Mean Delay')"
      ]
     },
     "execution_count": 3,
     "metadata": {},
     "output_type": "execute_result"
    },
    {
     "data": {
      "image/png": "[encoded data removed]",
      "text/plain": [
       "<Figure size 432x288 with 1 Axes>"
      ]
     },
     "metadata": {
      "needs_background": "light"
     },
     "output_type": "display_data"
    }
   ],
   "source": [
    "plt.plot(q2.arrival_rate, q2.mean_delay)\n",
    "plt.xlabel('Arrival Rate')\n",
    "plt.ylabel('Mean Delay')"
   ]
  },
  {
   "cell_type": "markdown",
   "metadata": {},
   "source": [
    "## Question 3"
   ]
  },
  {
   "cell_type": "code",
   "execution_count": 4,
   "metadata": {},
   "outputs": [
    {
     "data": {
      "text/html": [
       "<div>\n",
       "<style scoped>\n",
       "    .dataframe tbody tr th:only-of-type {\n",
       "        vertical-align: middle;\n",
       "    }\n",
       "\n",
       "    .dataframe tbody tr th {\n",
       "        vertical-align: top;\n",
       "    }\n",
       "\n",
       "    .dataframe thead th {\n",
       "        text-align: right;\n",
       "    }\n",
       "</style>\n",
       "<table border=\"1\" class=\"dataframe\">\n",
       "  <thead>\n",
       "    <tr style=\"text-align: right;\">\n",
       "      <th></th>\n",
       "      <th>length</th>\n",
       "      <th>utilization</th>\n",
       "      <th>fraction_served</th>\n",
       "      <th>mean_number</th>\n",
       "      <th>mean_delay</th>\n",
       "    </tr>\n",
       "  </thead>\n",
       "  <tbody>\n",
       "    <tr>\n",
       "      <th>0</th>\n",
       "      <td>10000</td>\n",
       "      <td>0.999458</td>\n",
       "      <td>0.918189</td>\n",
       "      <td>438.890378</td>\n",
       "      <td>439.128436</td>\n",
       "    </tr>\n",
       "    <tr>\n",
       "      <th>1</th>\n",
       "      <td>20000</td>\n",
       "      <td>0.999729</td>\n",
       "      <td>0.912201</td>\n",
       "      <td>968.789163</td>\n",
       "      <td>969.051902</td>\n",
       "    </tr>\n",
       "    <tr>\n",
       "      <th>2</th>\n",
       "      <td>30000</td>\n",
       "      <td>0.999819</td>\n",
       "      <td>0.911660</td>\n",
       "      <td>1440.755064</td>\n",
       "      <td>1441.015556</td>\n",
       "    </tr>\n",
       "    <tr>\n",
       "      <th>3</th>\n",
       "      <td>40000</td>\n",
       "      <td>0.999864</td>\n",
       "      <td>0.908265</td>\n",
       "      <td>1934.803343</td>\n",
       "      <td>1935.065706</td>\n",
       "    </tr>\n",
       "    <tr>\n",
       "      <th>4</th>\n",
       "      <td>50000</td>\n",
       "      <td>0.999892</td>\n",
       "      <td>0.908463</td>\n",
       "      <td>2452.980871</td>\n",
       "      <td>2453.246974</td>\n",
       "    </tr>\n",
       "    <tr>\n",
       "      <th>5</th>\n",
       "      <td>60000</td>\n",
       "      <td>0.999910</td>\n",
       "      <td>0.910084</td>\n",
       "      <td>2949.708076</td>\n",
       "      <td>2949.974733</td>\n",
       "    </tr>\n",
       "    <tr>\n",
       "      <th>6</th>\n",
       "      <td>70000</td>\n",
       "      <td>0.999923</td>\n",
       "      <td>0.909209</td>\n",
       "      <td>3456.760335</td>\n",
       "      <td>3457.028188</td>\n",
       "    </tr>\n",
       "    <tr>\n",
       "      <th>7</th>\n",
       "      <td>80000</td>\n",
       "      <td>0.999932</td>\n",
       "      <td>0.907060</td>\n",
       "      <td>3973.310059</td>\n",
       "      <td>3973.579453</td>\n",
       "    </tr>\n",
       "    <tr>\n",
       "      <th>8</th>\n",
       "      <td>90000</td>\n",
       "      <td>0.999940</td>\n",
       "      <td>0.907139</td>\n",
       "      <td>4499.487125</td>\n",
       "      <td>4499.758298</td>\n",
       "    </tr>\n",
       "    <tr>\n",
       "      <th>9</th>\n",
       "      <td>100000</td>\n",
       "      <td>0.999946</td>\n",
       "      <td>0.907178</td>\n",
       "      <td>5023.248392</td>\n",
       "      <td>5023.520856</td>\n",
       "    </tr>\n",
       "    <tr>\n",
       "      <th>10</th>\n",
       "      <td>110000</td>\n",
       "      <td>0.999951</td>\n",
       "      <td>0.908325</td>\n",
       "      <td>5536.719736</td>\n",
       "      <td>5536.992750</td>\n",
       "    </tr>\n",
       "    <tr>\n",
       "      <th>11</th>\n",
       "      <td>120000</td>\n",
       "      <td>0.999955</td>\n",
       "      <td>0.908430</td>\n",
       "      <td>6039.458870</td>\n",
       "      <td>6039.731857</td>\n",
       "    </tr>\n",
       "    <tr>\n",
       "      <th>12</th>\n",
       "      <td>130000</td>\n",
       "      <td>0.999958</td>\n",
       "      <td>0.907853</td>\n",
       "      <td>6552.865025</td>\n",
       "      <td>6553.138435</td>\n",
       "    </tr>\n",
       "    <tr>\n",
       "      <th>13</th>\n",
       "      <td>140000</td>\n",
       "      <td>0.999961</td>\n",
       "      <td>0.906536</td>\n",
       "      <td>7073.281781</td>\n",
       "      <td>7073.555824</td>\n",
       "    </tr>\n",
       "    <tr>\n",
       "      <th>14</th>\n",
       "      <td>150000</td>\n",
       "      <td>0.999964</td>\n",
       "      <td>0.906481</td>\n",
       "      <td>7597.193009</td>\n",
       "      <td>7597.467727</td>\n",
       "    </tr>\n",
       "    <tr>\n",
       "      <th>15</th>\n",
       "      <td>160000</td>\n",
       "      <td>0.999966</td>\n",
       "      <td>0.906557</td>\n",
       "      <td>8123.731917</td>\n",
       "      <td>8124.007316</td>\n",
       "    </tr>\n",
       "    <tr>\n",
       "      <th>16</th>\n",
       "      <td>170000</td>\n",
       "      <td>0.999968</td>\n",
       "      <td>0.906449</td>\n",
       "      <td>8648.898866</td>\n",
       "      <td>8649.174820</td>\n",
       "    </tr>\n",
       "    <tr>\n",
       "      <th>17</th>\n",
       "      <td>180000</td>\n",
       "      <td>0.999970</td>\n",
       "      <td>0.907061</td>\n",
       "      <td>9167.325983</td>\n",
       "      <td>9167.602229</td>\n",
       "    </tr>\n",
       "    <tr>\n",
       "      <th>18</th>\n",
       "      <td>190000</td>\n",
       "      <td>0.999971</td>\n",
       "      <td>0.906986</td>\n",
       "      <td>9683.580411</td>\n",
       "      <td>9683.856856</td>\n",
       "    </tr>\n",
       "    <tr>\n",
       "      <th>19</th>\n",
       "      <td>200000</td>\n",
       "      <td>0.999973</td>\n",
       "      <td>0.908010</td>\n",
       "      <td>10192.039880</td>\n",
       "      <td>10192.316292</td>\n",
       "    </tr>\n",
       "  </tbody>\n",
       "</table>\n",
       "</div>"
      ],
      "text/plain": [
       "    length  utilization  fraction_served   mean_number    mean_delay\n",
       "0    10000     0.999458         0.918189    438.890378    439.128436\n",
       "1    20000     0.999729         0.912201    968.789163    969.051902\n",
       "2    30000     0.999819         0.911660   1440.755064   1441.015556\n",
       "3    40000     0.999864         0.908265   1934.803343   1935.065706\n",
       "4    50000     0.999892         0.908463   2452.980871   2453.246974\n",
       "5    60000     0.999910         0.910084   2949.708076   2949.974733\n",
       "6    70000     0.999923         0.909209   3456.760335   3457.028188\n",
       "7    80000     0.999932         0.907060   3973.310059   3973.579453\n",
       "8    90000     0.999940         0.907139   4499.487125   4499.758298\n",
       "9   100000     0.999946         0.907178   5023.248392   5023.520856\n",
       "10  110000     0.999951         0.908325   5536.719736   5536.992750\n",
       "11  120000     0.999955         0.908430   6039.458870   6039.731857\n",
       "12  130000     0.999958         0.907853   6552.865025   6553.138435\n",
       "13  140000     0.999961         0.906536   7073.281781   7073.555824\n",
       "14  150000     0.999964         0.906481   7597.193009   7597.467727\n",
       "15  160000     0.999966         0.906557   8123.731917   8124.007316\n",
       "16  170000     0.999968         0.906449   8648.898866   8649.174820\n",
       "17  180000     0.999970         0.907061   9167.325983   9167.602229\n",
       "18  190000     0.999971         0.906986   9683.580411   9683.856856\n",
       "19  200000     0.999973         0.908010  10192.039880  10192.316292"
      ]
     },
     "execution_count": 4,
     "metadata": {},
     "output_type": "execute_result"
    }
   ],
   "source": [
    "q3 = pd.read_csv('q3.csv')\n",
    "q3"
   ]
  },
  {
   "cell_type": "code",
   "execution_count": 5,
   "metadata": {},
   "outputs": [
    {
     "data": {
      "image/png": "[encoded data removed]",
      "text/plain": [
       "<Figure size 720x720 with 4 Axes>"
      ]
     },
     "metadata": {
      "needs_background": "light"
     },
     "output_type": "display_data"
    }
   ],
   "source": [
    "fig, axs = plt.subplots(2, 2, figsize=(10, 10))\n",
    "axs[0, 0].plot(q3.length, q3.utilization)\n",
    "axs[0, 0].set_title('Utilization')\n",
    "axs[0, 1].plot(q3.length, q3.fraction_served, 'tab:orange')\n",
    "axs[0, 1].set_title('Fraction Served')\n",
    "axs[1, 0].plot(q3.length, q3.mean_number, 'tab:green')\n",
    "axs[1, 0].set_title('Mean Number')\n",
    "axs[1, 1].plot(q3.length, q3.mean_delay, 'tab:red')\n",
    "axs[1, 1].set_title('Mean Delay')\n",
    "\n",
    "for ax in axs.flat:\n",
    "    ax.set(xlabel='length')\n",
    "\n",
    "# Hide x labels and tick labels for top plots and y ticks for right plots.\n",
    "for ax in axs.flat:\n",
    "    ax.label_outer()"
   ]
  },
  {
   "cell_type": "markdown",
   "metadata": {},
   "source": [
    "## Question 4"
   ]
  },
  {
   "cell_type": "code",
   "execution_count": 6,
   "metadata": {},
   "outputs": [
    {
     "data": {
      "text/html": [
       "<div>\n",
       "<style scoped>\n",
       "    .dataframe tbody tr th:only-of-type {\n",
       "        vertical-align: middle;\n",
       "    }\n",
       "\n",
       "    .dataframe tbody tr th {\n",
       "        vertical-align: top;\n",
       "    }\n",
       "\n",
       "    .dataframe thead th {\n",
       "        text-align: right;\n",
       "    }\n",
       "</style>\n",
       "<table border=\"1\" class=\"dataframe\">\n",
       "  <thead>\n",
       "    <tr style=\"text-align: right;\">\n",
       "      <th></th>\n",
       "      <th>arrival_rate</th>\n",
       "      <th>mean_delay</th>\n",
       "    </tr>\n",
       "  </thead>\n",
       "  <tbody>\n",
       "    <tr>\n",
       "      <th>0</th>\n",
       "      <td>0.003333</td>\n",
       "      <td>31.666569</td>\n",
       "    </tr>\n",
       "    <tr>\n",
       "      <th>1</th>\n",
       "      <td>0.006667</td>\n",
       "      <td>33.750105</td>\n",
       "    </tr>\n",
       "    <tr>\n",
       "      <th>2</th>\n",
       "      <td>0.010000</td>\n",
       "      <td>36.428985</td>\n",
       "    </tr>\n",
       "    <tr>\n",
       "      <th>3</th>\n",
       "      <td>0.013333</td>\n",
       "      <td>40.001651</td>\n",
       "    </tr>\n",
       "    <tr>\n",
       "      <th>4</th>\n",
       "      <td>0.016667</td>\n",
       "      <td>45.004152</td>\n",
       "    </tr>\n",
       "    <tr>\n",
       "      <th>5</th>\n",
       "      <td>0.020000</td>\n",
       "      <td>52.507106</td>\n",
       "    </tr>\n",
       "    <tr>\n",
       "      <th>6</th>\n",
       "      <td>0.023333</td>\n",
       "      <td>65.011346</td>\n",
       "    </tr>\n",
       "    <tr>\n",
       "      <th>7</th>\n",
       "      <td>0.026667</td>\n",
       "      <td>90.022948</td>\n",
       "    </tr>\n",
       "    <tr>\n",
       "      <th>8</th>\n",
       "      <td>0.030000</td>\n",
       "      <td>165.120784</td>\n",
       "    </tr>\n",
       "  </tbody>\n",
       "</table>\n",
       "</div>"
      ],
      "text/plain": [
       "   arrival_rate  mean_delay\n",
       "0      0.003333   31.666569\n",
       "1      0.006667   33.750105\n",
       "2      0.010000   36.428985\n",
       "3      0.013333   40.001651\n",
       "4      0.016667   45.004152\n",
       "5      0.020000   52.507106\n",
       "6      0.023333   65.011346\n",
       "7      0.026667   90.022948\n",
       "8      0.030000  165.120784"
      ]
     },
     "execution_count": 6,
     "metadata": {},
     "output_type": "execute_result"
    }
   ],
   "source": [
    "q4 = pd.read_csv('q4.csv')\n",
    "q4"
   ]
  },
  {
   "cell_type": "code",
   "execution_count": 7,
   "metadata": {},
   "outputs": [
    {
     "data": {
      "image/png": "[encoded data removed]",
      "text/plain": [
       "<Figure size 720x360 with 2 Axes>"
      ]
     },
     "metadata": {
      "needs_background": "light"
     },
     "output_type": "display_data"
    }
   ],
   "source": [
    "fig, axs = plt.subplots(1, 2, figsize=(10, 5))\n",
    "axs[0].plot(q2.arrival_rate, q2.mean_delay)\n",
    "axs[0].set_title('Service Time = 1')\n",
    "axs[1].plot(q4.arrival_rate, q4.mean_delay, 'tab:orange')\n",
    "axs[1].set_title('Service Time = 30')\n",
    "\n",
    "for ax in axs.flat:\n",
    "    ax.set(xlabel='Arrival Rate', ylabel='Mean Delay')\n",
    "\n",
    "# Hide x labels and tick labels for top plots and y ticks for right plots.\n",
    "for ax in axs.flat:\n",
    "    ax.label_outer()"
   ]
  },
  {
   "cell_type": "code",
   "execution_count": null,
   "metadata": {},
   "outputs": [],
   "source": []
  }
 ],
 "metadata": {
  "kernelspec": {
   "display_name": "Python 3",
   "language": "python",
   "name": "python3"
  },
  "language_info": {
   "codemirror_mode": {
    "name": "ipython",
    "version": 3
   },
   "file_extension": ".py",
   "mimetype": "text/x-python",
   "name": "python",
   "nbconvert_exporter": "python",
   "pygments_lexer": "ipython3",
   "version": "3.8.5"
  }
 },
 "nbformat": 4,
 "nbformat_minor": 4
}
